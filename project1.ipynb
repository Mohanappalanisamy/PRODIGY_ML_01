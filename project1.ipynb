{
  "nbformat": 4,
  "nbformat_minor": 0,
  "metadata": {
    "colab": {
      "provenance": [],
      "name": "project1.ipynb",
      "authorship_tag": "ABX9TyNAHxwr/Gey5bXhlO+U/PCr",
      "include_colab_link": true
    },
    "kernelspec": {
      "name": "python3",
      "display_name": "Python 3"
    },
    "language_info": {
      "name": "python"
    }
  },
  "cells": [
    {
      "cell_type": "markdown",
      "metadata": {
        "id": "view-in-github",
        "colab_type": "text"
      },
      "source": [
        "<a href=\"https://colab.research.google.com/github/Mohanappalanisamy/PRODIGY_ML_01/blob/main/project1.ipynb\" target=\"_parent\"><img src=\"https://colab.research.google.com/assets/colab-badge.svg\" alt=\"Open In Colab\"/></a>"
      ]
    },
    {
      "cell_type": "code",
      "execution_count": null,
      "metadata": {
        "id": "jfGovQFCR-uy"
      },
      "outputs": [],
      "source": [
        "import pandas as pd\n",
        "import seaborn as sns\n",
        "import matplotlib.pyplot as plt\n",
        "from nltk.sentiment.vader import SentimentIntensityAnalyzer\n",
        "sentiments = SentimentIntensityAnalyzer()"
      ]
    },
    {
      "cell_type": "code",
      "source": [
        "data = pd.read_csv(\"Amazon.txt\", delimiter='\\t')"
      ],
      "metadata": {
        "id": "ChmHfl9ySCCX"
      },
      "execution_count": null,
      "outputs": []
    },
    {
      "cell_type": "code",
      "source": [
        "print(data.head())"
      ],
      "metadata": {
        "id": "jpYT9zB2SHSf"
      },
      "execution_count": null,
      "outputs": []
    },
    {
      "cell_type": "code",
      "source": [
        "ratings = data[\"rating\"].value_counts()\n",
        "number = ratings.index\n",
        "quantity = ratings.values"
      ],
      "metadata": {
        "id": "AK5GNHw3SIy8"
      },
      "execution_count": null,
      "outputs": []
    },
    {
      "cell_type": "code",
      "source": [
        "custom_colors = [\"skyblue\", \"yellowgreen\", 'tomato', \"blue\", \"red\"]\n",
        "plt.figure(figsize=(5, 5))\n",
        "plt.pie(quantity, labels=number, colors=custom_colors)\n",
        "central_circle = plt.Circle((0, 0), 0.5, color='white')\n",
        "fig = plt.gcf()\n",
        "fig.gca().add_artist(central_circle)\n",
        "plt.rc('font', size=12)\n",
        "plt.title(\"Amazon Alexa Reviews\", fontsize=20)\n",
        "plt.show()"
      ],
      "metadata": {
        "id": "ECDoWdnQSPYa"
      },
      "execution_count": null,
      "outputs": []
    },
    {
      "cell_type": "code",
      "source": [
        "sentiments = SentimentIntensityAnalyzer()\n",
        "data[\"Positive\"] = [sentiments.polarity_scores(i)[\"pos\"] for i in data[\"verified_reviews\"]]\n",
        "data[\"Negative\"] = [sentiments.polarity_scores(i)[\"neg\"] for i in data[\"verified_reviews\"]]\n",
        "data[\"Neutral\"] = [sentiments.polarity_scores(i)[\"neu\"] for i in data[\"verified_reviews\"]]"
      ],
      "metadata": {
        "id": "b86mabTISQvj"
      },
      "execution_count": null,
      "outputs": []
    },
    {
      "cell_type": "code",
      "source": [
        "x = sum(data[\"Positive\"])\n",
        "y = sum(data[\"Negative\"])\n",
        "z=sum(data[\"Neutral\"])"
      ],
      "metadata": {
        "id": "eT1harFcSUdF"
      },
      "execution_count": null,
      "outputs": []
    },
    {
      "cell_type": "code",
      "source": [
        "def sentiment_score(a,b,c):\n",
        "    if(a>b) and (a>c):\n",
        "        print(\"Positive\")\n",
        "    elif(b>a) and (b>c):\n",
        "        print (\"Negative\")\n",
        "    else:\n",
        "        print(\"Neutral\")"
      ],
      "metadata": {
        "id": "m-wHR3fKSXtz"
      },
      "execution_count": null,
      "outputs": []
    },
    {
      "cell_type": "code",
      "source": [
        "sentiment_score(x,y,z)"
      ],
      "metadata": {
        "id": "PBqwa7f4SbMu"
      },
      "execution_count": null,
      "outputs": []
    }
  ]
}